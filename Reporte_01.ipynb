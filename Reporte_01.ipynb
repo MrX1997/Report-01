{
 "cells": [
  {
   "cell_type": "code",
   "execution_count": 2,
   "metadata": {},
   "outputs": [],
   "source": [
    "# Jairo Andres Saavedra Alfonso\n",
    "# 01 de Febrero de 2019\n",
    "# Universidad de Los Andes\n",
    "# Phycis \n",
    "######################__________________Report 01__________________######################"
   ]
  },
  {
   "cell_type": "code",
   "execution_count": 3,
   "metadata": {},
   "outputs": [],
   "source": [
    "#Packages\n",
    "from astropy.io import fits\n",
    "import numpy as np\n",
    "import matplotlib.pylab as plt\n",
    "import pandas as pd\n",
    "from astropy.table import Table"
   ]
  },
  {
   "cell_type": "code",
   "execution_count": 4,
   "metadata": {},
   "outputs": [
    {
     "name": "stdout",
     "output_type": "stream",
     "text": [
      "Filename: Superset_DR12Q.fits\n",
      "No.    Name      Ver    Type      Cards   Dimensions   Format\n",
      "  0  PRIMARY       1 PrimaryHDU      16   (3111,)   uint8   \n",
      "  1  Superset_DR12Q_v2_6.fits    1 BinTableHDU    104   546856R x 23C   [18A, D, D, J, J, J, J, D, E, E, J, J, J, I, K, K, K, K, 5E, 5E, 5E, 5E, 5E]   \n",
      "None /n ColDefs(\n",
      "    name = 'SDSS_NAME'; format = '18A'; unit = '-'\n",
      "    name = 'RA'; format = 'D'; unit = 'deg'\n",
      "    name = 'DEC'; format = 'D'; unit = 'deg'\n",
      "    name = 'THING_ID'; format = 'J'; unit = '-'\n",
      "    name = 'PLATE'; format = 'J'; unit = '-'\n",
      "    name = 'MJD'; format = 'J'; unit = '-'\n",
      "    name = 'FIBERID'; format = 'J'; unit = '-'\n",
      "    name = 'Z_VI'; format = 'D'; unit = '-'\n",
      "    name = 'Z_PIPE'; format = 'E'; unit = '-'\n",
      "    name = 'ERR_ZPIPE'; format = 'E'; unit = '-'\n",
      "    name = 'ZWARNING'; format = 'J'; unit = '-'\n",
      "    name = 'CLASS_PERSON'; format = 'J'; unit = '-'\n",
      "    name = 'Z_CONF_PERSON'; format = 'J'; unit = '-'\n",
      "    name = 'SDSS_MORPHO'; format = 'I'; unit = '-'\n",
      "    name = 'BOSS_TARGET1'; format = 'K'; unit = '-'\n",
      "    name = 'ANCILLARY_TARGET1'; format = 'K'; unit = '-'\n",
      "    name = 'ANCILLARY_TARGET2'; format = 'K'; unit = '-'\n",
      "    name = 'EBOSS_TARGET0'; format = 'K'; unit = '-'\n",
      "    name = 'PSFFLUX'; format = '5E'; unit = 'nanomaggies'\n",
      "    name = 'IVAR_PSFFLUX'; format = '5E'; unit = '-'\n",
      "    name = 'PSFMAG'; format = '5E'; unit = '-'\n",
      "    name = 'ERR_PSFMAG'; format = '5E'; unit = '-'\n",
      "    name = 'EXTINCTION'; format = '5E'; unit = '-'\n",
      ")\n"
     ]
    }
   ],
   "source": [
    "# Reading data from truth_DR12Q.fits. This file have the database sample of spectra with human-expert classifitacion \n",
    "hdul = fits.open('Superset_DR12Q.fits') # Open file\n",
    "info=hdul.info() # File info\n",
    "columns=hdul[1].columns # File Columns \n",
    "print(info,'/n',columns)\n",
    "data=hdul[1].data # Database of spectra with human-expert classifications "
   ]
  },
  {
   "cell_type": "code",
   "execution_count": 5,
   "metadata": {},
   "outputs": [
    {
     "name": "stdout",
     "output_type": "stream",
     "text": [
      "(207915,)\n",
      "(22795,)\n",
      "(270686,)\n",
      "(29659,)\n",
      "(15801,)\n"
     ]
    }
   ],
   "source": [
    "# The column 'CLASS_PERSON' have a class identifier for each spectrum: STARS=1, GALAXY=4, QSO=3 and QSO_BAL=30.\n",
    "C_P=data['CLASS_PERSON'] #Class Person column \n",
    "STAR=C_P[C_P==1] # objects classified as stars\n",
    "GALAXY=C_P[C_P==4] # objects classified as galaxies \n",
    "QSO=C_P[C_P==3] # objects classified as QSO (Quasars)\n",
    "QSO_BAL=C_P[C_P==30] # objects classified as QSO BAL (Quasars with Broad Absortions Lines)\n",
    "N_C=C_P[C_P!=30]   \n",
    "N_C=N_C[N_C!=3]\n",
    "N_C=N_C[N_C!=1]\n",
    "N_C=N_C[N_C!=4] # objects wrong classified\n",
    "print(STAR.shape)\n",
    "print(GALAXY.shape)\n",
    "print(QSO.shape)\n",
    "print(QSO_BAL.shape)\n",
    "print(N_C.shape)"
   ]
  },
  {
   "cell_type": "code",
   "execution_count": 31,
   "metadata": {
    "scrolled": false
   },
   "outputs": [
    {
     "name": "stdout",
     "output_type": "stream",
     "text": [
      "(214791,)\n",
      "(7123,)\n"
     ]
    }
   ],
   "source": [
    "Z_VI=data['Z_VI'] # Redshift of each object\n",
    "print(Z_VI[Z_VI==0.0].shape)\n",
    "Z_C_P=data['Z_CONF_PERSON']\n",
    "print(Z_C_P[Z_C_P==0].shape)\n",
    "T_ID=data['THING_ID']\n",
    "i=T_ID==-1\n",
    "T_ID=T_ID[i]"
   ]
  },
  {
   "cell_type": "code",
   "execution_count": 53,
   "metadata": {},
   "outputs": [
    {
     "data": {
      "text/plain": [
       "Text(0.5,1,'QSO')"
      ]
     },
     "execution_count": 53,
     "metadata": {},
     "output_type": "execute_result"
    },
    {
     "data": {
      "image/png": "[encoded data removed]",
      "text/plain": [
       "<Figure size 432x288 with 1 Axes>"
      ]
     },
     "metadata": {},
     "output_type": "display_data"
    }
   ],
   "source": [
    "ii=C_P==3\n",
    "oo=C_P==30\n",
    "Z_VI_QSO=Z_VI[ii]\n",
    "Z_VI_QSO_BAL=Z_VI[oo]\n",
    "plt.hist(Z_VI_QSO,100,density=True)\n",
    "plt.xlabel('Redshift')\n",
    "plt.title('QSO')\n"
   ]
  },
  {
   "cell_type": "code",
   "execution_count": 55,
   "metadata": {},
   "outputs": [
    {
     "data": {
      "text/plain": [
       "Text(0.5,1,'QSO_BAL')"
      ]
     },
     "execution_count": 55,
     "metadata": {},
     "output_type": "execute_result"
    },
    {
     "data": {
      "image/png": "[encoded data removed]",
      "text/plain": [
       "<Figure size 432x288 with 1 Axes>"
      ]
     },
     "metadata": {},
     "output_type": "display_data"
    }
   ],
   "source": [
    "plt.hist(Z_VI_QSO_BAL,100,density=True)\n",
    "plt.xlabel('Redshift')\n",
    "plt.title('QSO_BAL')"
   ]
  },
  {
   "cell_type": "code",
   "execution_count": 43,
   "metadata": {
    "scrolled": false
   },
   "outputs": [
    {
     "name": "stdout",
     "output_type": "stream",
     "text": [
      "Filename: data_dr12.fits\n",
      "No.    Name      Ver    Type      Cards   Dimensions   Format\n",
      "  0  PRIMARY       1 PrimaryHDU       8   (886, 639464)   float64   \n",
      "  1                1 BinTableHDU     16   639464R x 4C   [J, J, J, J]   \n",
      "[<astropy.io.fits.hdu.image.PrimaryHDU object at 0x7f311eb40e48>, <astropy.io.fits.hdu.table.BinTableHDU object at 0x7f311ead9c18>] /n ColDefs(\n",
      "    name = 'TARGETID'; format = 'J'\n",
      "    name = 'PLATE'; format = 'J'\n",
      "    name = 'MJD'; format = 'J'\n",
      "    name = 'FIBERID'; format = 'J'\n",
      ")\n"
     ]
    },
    {
     "data": {
      "text/plain": [
       "(443, 886)"
      ]
     },
     "execution_count": 43,
     "metadata": {},
     "output_type": "execute_result"
    },
    {
     "data": {
      "image/png": "[encoded data removed]",
      "text/plain": [
       "<Figure size 432x288 with 1 Axes>"
      ]
     },
     "metadata": {},
     "output_type": "display_data"
    }
   ],
   "source": [
    "hdul_2 = fits.open('data_dr12.fits')\n",
    "info=hdul_2.info() # File info\n",
    "columns=hdul_2[1].columns # File Columns \n",
    "print(hdul,'/n',columns)\n",
    "data=hdul[1].data # Database of spectra\n",
    "spectrum=hdul_2[0].data # Spectrum of each object \n",
    "x=np.linspace(0,886,886)\n",
    "plt.plot(x,spectrum[0])\n",
    "plt.xlim([443,886])\n",
    "#[plt.plot(x,spectrum[i]) for i in range(600)]\n",
    "#plt.show()"
   ]
  },
  {
   "cell_type": "code",
   "execution_count": null,
   "metadata": {},
   "outputs": [],
   "source": []
  },
  {
   "cell_type": "code",
   "execution_count": null,
   "metadata": {},
   "outputs": [],
   "source": []
  },
  {
   "cell_type": "code",
   "execution_count": null,
   "metadata": {},
   "outputs": [],
   "source": [
    "\n"
   ]
  },
  {
   "cell_type": "code",
   "execution_count": null,
   "metadata": {},
   "outputs": [],
   "source": []
  },
  {
   "cell_type": "code",
   "execution_count": null,
   "metadata": {},
   "outputs": [],
   "source": []
  },
  {
   "cell_type": "code",
   "execution_count": null,
   "metadata": {},
   "outputs": [],
   "source": []
  }
 ],
 "metadata": {
  "kernelspec": {
   "display_name": "Python 3",
   "language": "python",
   "name": "python3"
  },
  "language_info": {
   "codemirror_mode": {
    "name": "ipython",
    "version": 3
   },
   "file_extension": ".py",
   "mimetype": "text/x-python",
   "name": "python",
   "nbconvert_exporter": "python",
   "pygments_lexer": "ipython3",
   "version": "3.6.5"
  }
 },
 "nbformat": 4,
 "nbformat_minor": 2
}
